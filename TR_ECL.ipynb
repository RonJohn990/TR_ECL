{
 "cells": [
  {
   "cell_type": "code",
   "execution_count": 1,
   "source": [
    "import pandas as pd\n",
    "import numpy as np\n",
    "from scipy.stats import norm\n",
    "\n",
    "data = pd.read_csv(\"/Users/ron/Documents/Dev/Data/test_data.csv\")"
   ],
   "outputs": [],
   "metadata": {}
  },
  {
   "cell_type": "markdown",
   "source": [
    "# Preprocessing macro data and calculating Z-scores"
   ],
   "metadata": {}
  },
  {
   "cell_type": "markdown",
   "source": [
    "## Cleaning up 'Year' in macro_data"
   ],
   "metadata": {}
  },
  {
   "cell_type": "code",
   "execution_count": 2,
   "source": [
    "macro_data = pd.read_csv(\"/Users/ron/Documents/Dev/Data/macro_data.csv\", header = None)\n",
    "macro_data = macro_data.T\n",
    "new_header = macro_data.iloc[0] # Columns names\n",
    "macro_data = macro_data[1:]\n",
    "macro_data.columns = new_header\n",
    "tmp = map(lambda x:int(x), macro_data['Year']) # Converting Year to int\n",
    "macro_data['Year'] = list(tmp)"
   ],
   "outputs": [],
   "metadata": {}
  },
  {
   "cell_type": "markdown",
   "source": [
    "## Other Preprocessing"
   ],
   "metadata": {}
  },
  {
   "cell_type": "code",
   "execution_count": 3,
   "source": [
    "tmp = macro_data.drop(columns = 'Year')\n",
    "cond = tmp != 'no data'\n",
    "tmp = tmp.replace(to_replace = 'no data', value = np.nan) # Replaacing missing data with Nan"
   ],
   "outputs": [],
   "metadata": {}
  },
  {
   "cell_type": "markdown",
   "source": [
    "## Transforming GDP data to z-scores. "
   ],
   "metadata": {}
  },
  {
   "cell_type": "code",
   "execution_count": 4,
   "source": [
    "tmp_1 = tmp.to_numpy(dtype = float)\n",
    "\n",
    "z_score_mean = np.nanmean(tmp_1, axis = 0)\n",
    "z_score_std = np.nanstd(tmp_1, axis = 0)\n",
    "\n",
    "# Calculating Avg and Std of macro data accoring to each\n",
    "# country for the entire time period\n",
    "df_stat = pd.DataFrame([z_score_mean, z_score_std], columns = new_header[1:])\n",
    "df_stat.index = ['Average', 'Std Dev']\n",
    "\n",
    "country_wise_Z_scores = pd.DataFrame()\n",
    "i = 0\n",
    "\n",
    "while i < (tmp.shape[0]):\n",
    "    country_wise_Z_scores[i] = (pd.array(tmp.iloc[i], float) - df_stat.iloc[0]) / df_stat.iloc[1]\n",
    "    i = i + 1\n",
    "\n",
    "country_wise_Z_scores = country_wise_Z_scores.T\n",
    "Z_scores = country_wise_Z_scores.copy()\n",
    "Z_scores.insert(0, \"Year\", np.array(macro_data[\"Year\"]))\n",
    "Z_scores = Z_scores.set_index('Year')"
   ],
   "outputs": [],
   "metadata": {}
  },
  {
   "cell_type": "markdown",
   "source": [
    "# Evaluating TTC PD, PiT PD and Asset Correlation"
   ],
   "metadata": {}
  },
  {
   "cell_type": "markdown",
   "source": [
    "## Calculating Flow Rates"
   ],
   "metadata": {}
  },
  {
   "cell_type": "code",
   "execution_count": 5,
   "source": [
    "label_tmp = data.columns[0] # Extracting first labeel ('Period) of Exposuree Data\n",
    "exp_df = (data.copy()).drop(labels = label_tmp, axis = 1).to_numpy()\n",
    "nrow = exp_df.shape[0]\n",
    "ncol = exp_df.shape[1]\n",
    "\n",
    "i = 0\n",
    "flow_rate_tmp = np.empty([(nrow - 1), (ncol - 1)])\n",
    "\n",
    "while i < nrow - 2: \n",
    "    flow_rate_tmp[i][0:] = exp_df[i+1][1:(ncol)] / exp_df[i][0:(ncol - 1)]\n",
    "    i = i + 1\n",
    "\n",
    "flow_rate = pd.DataFrame(flow_rate_tmp, columns = data.columns[1:ncol])\n",
    "\n",
    "flow_rate = flow_rate.where(cond = flow_rate < 1, other = 1)\n",
    "flow_rate = flow_rate.where(cond = flow_rate > 0, other = np.nan)"
   ],
   "outputs": [],
   "metadata": {}
  },
  {
   "cell_type": "markdown",
   "source": [
    "## TTC PD & PiT PD"
   ],
   "metadata": {}
  },
  {
   "cell_type": "code",
   "execution_count": 6,
   "source": [
    "TTC_PD = np.nanmean(flow_rate, axis = 0)\n",
    "TTC_PD = np.append(TTC_PD, 1)\n",
    "i = 0\n",
    "while i < len(TTC_PD):\n",
    "    TTC_PD[i] = np.product(TTC_PD[i:])\n",
    "    i = i + 1\n",
    "\n",
    "# Function to calcualte the PiT PD for 3 scenarios: Base, Upturn and Downturn\n",
    "# using Vasicek model.\n",
    "    \n",
    "def PiT_PD(ttc_pd, z_scores, country, yr):\n",
    "    rho = 0.24 - (0.12 * ((1-np.exp(-50 * ttc_pd)) / (1 - np.exp(-50)))) # Asset Correlation\n",
    "    m_base = pd.array(z_scores.filter(like = country, axis = 1).loc[yr]) # macro variable\n",
    "    m_up = pd.array(z_scores.filter(like = country, axis = 1).loc[yr]) + df_stat[country][1]\n",
    "    m_down = pd.array(z_scores.filter(like = country, axis = 1).loc[yr]) - df_stat[country][1] \n",
    "    p = norm.ppf(ttc_pd, loc = 0, scale = 1) # quantile of TTC PD\n",
    "    base_pit = norm.cdf((p - np.multiply(np.sqrt(rho), m_base) / np.sqrt( 1 - rho)), loc = 0, scale = 1)\n",
    "    up_pit = norm.cdf((p - np.multiply(np.sqrt(rho), m_up) / np.sqrt( 1 - rho)), loc = 0, scale = 1)\n",
    "    down_pit = norm.cdf((p - np.multiply(np.sqrt(rho), m_down) / np.sqrt( 1 - rho)), loc = 0, scale = 1)\n",
    "    pit_pd = pd.DataFrame([base_pit, up_pit, down_pit], index = [\"Base\", \"Upturn\", \"Downturn\"])\n",
    "    return(pit_pd.T, rho)   "
   ],
   "outputs": [],
   "metadata": {}
  },
  {
   "cell_type": "markdown",
   "source": [
    "# LGD Calculation"
   ],
   "metadata": {}
  },
  {
   "cell_type": "code",
   "execution_count": 7,
   "source": [
    "a = exp_df[0:-1, -1]\n",
    "b = exp_df[0:-1, -2]\n",
    "c = exp_df[1:, -1]\n",
    "\n",
    "LGD = pd.DataFrame((a + b - c)/(a + b))\n",
    "LGD = LGD.where(cond = LGD < 1, other = 1)\n",
    "LGD = LGD.where(cond = LGD > 0, other = np.nan)\n",
    "LGD = np.nanmean(LGD)"
   ],
   "outputs": [],
   "metadata": {}
  },
  {
   "cell_type": "markdown",
   "source": [
    "# ECL Calculation"
   ],
   "metadata": {}
  },
  {
   "cell_type": "code",
   "execution_count": 8,
   "source": [
    "def ECL(exp, LGD, w1, w2, w3, ttc_pd, z_scores, country, yr):\n",
    "    PD = PiT_PD(ttc_pd, z_scores, country, yr)\n",
    "    final_exp = exp[-1]\n",
    "    tmp_1 = (PD[0].to_numpy() * LGD) # PD * LGD\n",
    "    ECL_scenarios = np.round(np.einsum(\"ij, i -> ij\", tmp_1, final_exp), 2)\n",
    "    ECL_final = np.average(ECL_scenarios, weights = [w1, w2, w3], axis = 1)\n",
    "    return(ECL_final, PD[0], PD[1])"
   ],
   "outputs": [],
   "metadata": {}
  },
  {
   "cell_type": "code",
   "execution_count": 38,
   "source": [
    "# Requiredd arguments are\n",
    "# exp, LGD, w1, w2, w3, ttc_pd, z_scores, country, yr\n",
    "# 'Afghanistan', 'Bahrain', 'Canada', 'Egypt', 'India', 'Oman',\n",
    "#       'Qatar', 'Saudi Arabia', 'United Arab Emirates', 'United Kingdom',\n",
    "#       'United States'\n",
    "\n",
    "ECL_tmp = ECL(exp_df, LGD, 0.5, 0.3, 0.2, TTC_PD, Z_scores, 'Bahrain', 2021)\n",
    "ECL_final = round(pd.DataFrame(ECL_tmp[0], columns = ['Final ECL']), 2)\n",
    "ECL_PD = ECL_tmp[1] \n",
    "\n",
    "ECL_per = round(np.nansum(ECL_tmp[0]) / np.nansum(exp_df[-1]), 2)\n",
    "\n",
    "final_df = pd.DataFrame([exp_df[-1],TTC_PD, ECL_tmp[2]], index = ['Final Exposure', 'TTC PD', 'Asset Correlation']).T\n",
    "final_df = pd.concat([final_df, ECL_PD, ECL_final], axis = 1)\n",
    "final_df = final_df.set_index(data.columns[1:])\n",
    "final_df"
   ],
   "outputs": [
    {
     "output_type": "execute_result",
     "data": {
      "text/html": [
       "<div>\n",
       "<style scoped>\n",
       "    .dataframe tbody tr th:only-of-type {\n",
       "        vertical-align: middle;\n",
       "    }\n",
       "\n",
       "    .dataframe tbody tr th {\n",
       "        vertical-align: top;\n",
       "    }\n",
       "\n",
       "    .dataframe thead th {\n",
       "        text-align: right;\n",
       "    }\n",
       "</style>\n",
       "<table border=\"1\" class=\"dataframe\">\n",
       "  <thead>\n",
       "    <tr style=\"text-align: right;\">\n",
       "      <th></th>\n",
       "      <th>Final Exposure</th>\n",
       "      <th>TTC PD</th>\n",
       "      <th>Asset Correlation</th>\n",
       "      <th>Base</th>\n",
       "      <th>Upturn</th>\n",
       "      <th>Downturn</th>\n",
       "      <th>Final ECL</th>\n",
       "    </tr>\n",
       "  </thead>\n",
       "  <tbody>\n",
       "    <tr>\n",
       "      <th>Current</th>\n",
       "      <td>2859897.0</td>\n",
       "      <td>0.058396</td>\n",
       "      <td>0.126473</td>\n",
       "      <td>0.067538</td>\n",
       "      <td>0.006475</td>\n",
       "      <td>0.307263</td>\n",
       "      <td>141002.74</td>\n",
       "    </tr>\n",
       "    <tr>\n",
       "      <th>30 days</th>\n",
       "      <td>9576457.0</td>\n",
       "      <td>0.071980</td>\n",
       "      <td>0.123282</td>\n",
       "      <td>0.082526</td>\n",
       "      <td>0.009023</td>\n",
       "      <td>0.340214</td>\n",
       "      <td>544307.68</td>\n",
       "    </tr>\n",
       "    <tr>\n",
       "      <th>60 days</th>\n",
       "      <td>8771159.0</td>\n",
       "      <td>0.093198</td>\n",
       "      <td>0.121136</td>\n",
       "      <td>0.105812</td>\n",
       "      <td>0.013353</td>\n",
       "      <td>0.388806</td>\n",
       "      <td>599388.59</td>\n",
       "    </tr>\n",
       "    <tr>\n",
       "      <th>90 days</th>\n",
       "      <td>4822030.0</td>\n",
       "      <td>0.112692</td>\n",
       "      <td>0.120429</td>\n",
       "      <td>0.127065</td>\n",
       "      <td>0.017696</td>\n",
       "      <td>0.429791</td>\n",
       "      <td>378766.47</td>\n",
       "    </tr>\n",
       "    <tr>\n",
       "      <th>120 days</th>\n",
       "      <td>6775778.0</td>\n",
       "      <td>0.138593</td>\n",
       "      <td>0.120117</td>\n",
       "      <td>0.155099</td>\n",
       "      <td>0.024029</td>\n",
       "      <td>0.478962</td>\n",
       "      <td>620767.28</td>\n",
       "    </tr>\n",
       "    <tr>\n",
       "      <th>150 days</th>\n",
       "      <td>4892465.0</td>\n",
       "      <td>0.160733</td>\n",
       "      <td>0.120039</td>\n",
       "      <td>0.178885</td>\n",
       "      <td>0.029965</td>\n",
       "      <td>0.516778</td>\n",
       "      <td>500948.93</td>\n",
       "    </tr>\n",
       "    <tr>\n",
       "      <th>180 days</th>\n",
       "      <td>6596443.0</td>\n",
       "      <td>0.208504</td>\n",
       "      <td>0.120004</td>\n",
       "      <td>0.229709</td>\n",
       "      <td>0.044440</td>\n",
       "      <td>0.587737</td>\n",
       "      <td>822520.39</td>\n",
       "    </tr>\n",
       "    <tr>\n",
       "      <th>210 days</th>\n",
       "      <td>7833525.0</td>\n",
       "      <td>0.265512</td>\n",
       "      <td>0.120000</td>\n",
       "      <td>0.289574</td>\n",
       "      <td>0.064741</td>\n",
       "      <td>0.657955</td>\n",
       "      <td>1175784.21</td>\n",
       "    </tr>\n",
       "    <tr>\n",
       "      <th>240 days</th>\n",
       "      <td>7834415.0</td>\n",
       "      <td>0.331369</td>\n",
       "      <td>0.120000</td>\n",
       "      <td>0.357809</td>\n",
       "      <td>0.092447</td>\n",
       "      <td>0.724811</td>\n",
       "      <td>1397745.00</td>\n",
       "    </tr>\n",
       "    <tr>\n",
       "      <th>270 days</th>\n",
       "      <td>7284386.0</td>\n",
       "      <td>0.406859</td>\n",
       "      <td>0.120000</td>\n",
       "      <td>0.434938</td>\n",
       "      <td>0.130224</td>\n",
       "      <td>0.787477</td>\n",
       "      <td>1530374.63</td>\n",
       "    </tr>\n",
       "    <tr>\n",
       "      <th>300 days</th>\n",
       "      <td>9899209.0</td>\n",
       "      <td>0.514459</td>\n",
       "      <td>0.120000</td>\n",
       "      <td>0.543028</td>\n",
       "      <td>0.196705</td>\n",
       "      <td>0.857596</td>\n",
       "      <td>2521822.66</td>\n",
       "    </tr>\n",
       "    <tr>\n",
       "      <th>330 days</th>\n",
       "      <td>7407327.0</td>\n",
       "      <td>0.631497</td>\n",
       "      <td>0.120000</td>\n",
       "      <td>0.658230</td>\n",
       "      <td>0.289831</td>\n",
       "      <td>0.914524</td>\n",
       "      <td>2251320.64</td>\n",
       "    </tr>\n",
       "    <tr>\n",
       "      <th>360 days</th>\n",
       "      <td>7938288.0</td>\n",
       "      <td>0.752250</td>\n",
       "      <td>0.120000</td>\n",
       "      <td>0.774396</td>\n",
       "      <td>0.417571</td>\n",
       "      <td>0.956820</td>\n",
       "      <td>2835097.26</td>\n",
       "    </tr>\n",
       "    <tr>\n",
       "      <th>&gt; 360 days</th>\n",
       "      <td>7817417.0</td>\n",
       "      <td>1.000000</td>\n",
       "      <td>0.120000</td>\n",
       "      <td>1.000000</td>\n",
       "      <td>1.000000</td>\n",
       "      <td>1.000000</td>\n",
       "      <td>3966748.60</td>\n",
       "    </tr>\n",
       "  </tbody>\n",
       "</table>\n",
       "</div>"
      ],
      "text/plain": [
       "            Final Exposure    TTC PD  Asset Correlation      Base    Upturn  \\\n",
       "Current          2859897.0  0.058396           0.126473  0.067538  0.006475   \n",
       "30 days          9576457.0  0.071980           0.123282  0.082526  0.009023   \n",
       "60 days          8771159.0  0.093198           0.121136  0.105812  0.013353   \n",
       "90 days          4822030.0  0.112692           0.120429  0.127065  0.017696   \n",
       "120 days         6775778.0  0.138593           0.120117  0.155099  0.024029   \n",
       "150 days         4892465.0  0.160733           0.120039  0.178885  0.029965   \n",
       "180 days         6596443.0  0.208504           0.120004  0.229709  0.044440   \n",
       "210 days         7833525.0  0.265512           0.120000  0.289574  0.064741   \n",
       "240 days         7834415.0  0.331369           0.120000  0.357809  0.092447   \n",
       "270 days         7284386.0  0.406859           0.120000  0.434938  0.130224   \n",
       "300 days         9899209.0  0.514459           0.120000  0.543028  0.196705   \n",
       "330 days         7407327.0  0.631497           0.120000  0.658230  0.289831   \n",
       "360 days         7938288.0  0.752250           0.120000  0.774396  0.417571   \n",
       "> 360 days       7817417.0  1.000000           0.120000  1.000000  1.000000   \n",
       "\n",
       "            Downturn   Final ECL  \n",
       "Current     0.307263   141002.74  \n",
       "30 days     0.340214   544307.68  \n",
       "60 days     0.388806   599388.59  \n",
       "90 days     0.429791   378766.47  \n",
       "120 days    0.478962   620767.28  \n",
       "150 days    0.516778   500948.93  \n",
       "180 days    0.587737   822520.39  \n",
       "210 days    0.657955  1175784.21  \n",
       "240 days    0.724811  1397745.00  \n",
       "270 days    0.787477  1530374.63  \n",
       "300 days    0.857596  2521822.66  \n",
       "330 days    0.914524  2251320.64  \n",
       "360 days    0.956820  2835097.26  \n",
       "> 360 days  1.000000  3966748.60  "
      ]
     },
     "metadata": {},
     "execution_count": 38
    }
   ],
   "metadata": {}
  },
  {
   "cell_type": "code",
   "execution_count": 39,
   "source": [
    "ECL_per"
   ],
   "outputs": [
    {
     "output_type": "execute_result",
     "data": {
      "text/plain": [
       "0.19"
      ]
     },
     "metadata": {},
     "execution_count": 39
    }
   ],
   "metadata": {}
  },
  {
   "cell_type": "markdown",
   "source": [
    "# Plotting"
   ],
   "metadata": {}
  },
  {
   "cell_type": "code",
   "execution_count": 11,
   "source": [
    "import matplotlib.pyplot as plt"
   ],
   "outputs": [],
   "metadata": {}
  },
  {
   "cell_type": "code",
   "execution_count": 40,
   "source": [
    "final_df_PD = final_df.drop(['Final Exposure', 'Asset Correlation', 'Final ECL'], axis = 1)\n",
    "final_df_PD = final_df_PD.drop(index = ['> 360 days']) \n",
    "final_df_PD.plot()"
   ],
   "outputs": [
    {
     "output_type": "execute_result",
     "data": {
      "text/plain": [
       "<AxesSubplot:>"
      ]
     },
     "metadata": {},
     "execution_count": 40
    },
    {
     "output_type": "display_data",
     "data": {
      "image/png": "[encoded data removed]",
      "text/plain": [
       "<Figure size 432x288 with 1 Axes>"
      ]
     },
     "metadata": {
      "needs_background": "light"
     }
    }
   ],
   "metadata": {}
  },
  {
   "cell_type": "code",
   "execution_count": null,
   "source": [],
   "outputs": [],
   "metadata": {}
  }
 ],
 "metadata": {
  "kernelspec": {
   "name": "python3",
   "display_name": "Python 3.9.6 64-bit"
  },
  "language_info": {
   "codemirror_mode": {
    "name": "ipython",
    "version": 3
   },
   "file_extension": ".py",
   "mimetype": "text/x-python",
   "name": "python",
   "nbconvert_exporter": "python",
   "pygments_lexer": "ipython3",
   "version": "3.9.6"
  },
  "interpreter": {
   "hash": "aee8b7b246df8f9039afb4144a1f6fd8d2ca17a180786b69acc140d282b71a49"
  }
 },
 "nbformat": 4,
 "nbformat_minor": 5
}